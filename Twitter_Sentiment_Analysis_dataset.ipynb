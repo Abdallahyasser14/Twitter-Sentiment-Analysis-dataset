{
  "cells": [
    {
      "cell_type": "markdown",
      "metadata": {
        "id": "dpKLxZ8mNTGE"
      },
      "source": [
        "# NLP Lab Task — Preprocessing to Deployment with Twitter Sentiment Dataset\n",
        "\n",
        "## Overview\n",
        "\n",
        "This lab takes students through the **entire NLP pipeline** using a **Twitter Sentiment Analysis dataset** (tweets labeled as positive, negative, or neutral). Students will preprocess the data, represent it using multiple methods, train classical machine learning models, evaluate their results, and finally build a small API for deployment.\n",
        "\n",
        "---\n",
        "\n",
        "## Learning Objectives\n",
        "\n",
        "* Apply text preprocessing (regex, case folding, tokenization, stopword removal, punctuation handling).\n",
        "* Compare stemming and lemmatization, and use POS tagging to analyze counts of nouns, verbs, and adjectives.\n",
        "* Build text representations using **Bag-of-Words**, **TF–IDF**, and **Word2Vec**.\n",
        "* Train classical ML models inside an sklearn **Pipeline**.\n",
        "* Evaluate models with standard metrics and perform basic error analysis.\n",
        "* Save a trained pipeline and build a simple API to serve predictions.\n",
        "\n",
        "---\n",
        "\n",
        "## Dataset\n",
        "\n",
        "We will use the **Sentiment140 Twitter dataset** (1.6M tweets, labeled positive/negative). For simplicity, you can work with a smaller balanced subset (e.g., 10k–20k tweets). This dataset is widely used for sentiment analysis and contains real, noisy text with mentions, hashtags, and emoticons.\n",
        "\n",
        "Dataset link: [Sentiment140](http://help.sentiment140.com/for-students/)\n",
        "\n",
        "---\n",
        "\n",
        "## Step-by-Step Tasks\n",
        "\n",
        "### 1) Exploratory Data Analysis (EDA)\n",
        "\n",
        "* Load dataset, show class distribution, tweet length histogram, and a few sample tweets.\n",
        "* Deliverable: 3 plots (class balance, length histogram, top frequent tokens) + 5 example tweets.\n",
        "\n",
        "### 2) Regex Cleaning\n",
        "\n",
        "* Remove URLs, mentions (@user), hashtags, emojis (or replace with tokens), and extra whitespace.\n",
        "* Show a before-and-after example for at least 3 tweets.\n",
        "\n",
        "### 3) Case Folding & Tokenization\n",
        "\n",
        "* Convert all text to lowercase.\n",
        "* Tokenize tweets using NLTK or spaCy.\n",
        "* Compare vocabulary size before and after cleaning.\n",
        "\n",
        "### 4) Stopwords, Punctuation, and Numbers\n",
        "\n",
        "* Remove stopwords (with NLTK list, customizable).\n",
        "* Decide how to handle punctuation and numbers (remove or replace with `<NUM>`).\n",
        "* Deliverable: short explanation of your choice.\n",
        "\n",
        "### 5) Stemming vs Lemmatization\n",
        "\n",
        "* Use PorterStemmer (stemming) and spaCy lemmatizer.\n",
        "* Show 20 sample words with their stem vs lemma.\n",
        "* Train quick models with both and compare results.\n",
        "\n",
        "### 6) POS Tagging (extra features)\n",
        "\n",
        "* Use spaCy to count nouns, verbs, and adjectives per tweet.\n",
        "* Add these counts as additional numeric features.\n",
        "* Compare model with vs without POS features.\n",
        "\n",
        "### 7) Text Representation\n",
        "\n",
        "* Implement three representations:\n",
        "  1. **Bag-of-Words** (CountVectorizer)\n",
        "  2. **TF–IDF** (TfidfVectorizer)\n",
        "  3. **Word2Vec** (pretrained embeddings, averaged per tweet)\n",
        "* Compare vocabulary sizes and representation dimensions.\n",
        "\n",
        "### 8) Modeling with Pipelines\n",
        "\n",
        "* Use sklearn Pipelines to connect preprocessing + vectorizer + classifier.\n",
        "* Models to try:\n",
        "  * Multinomial Naive Bayes (for BoW/TF–IDF)\n",
        "  * Logistic Regression\n",
        "  * Linear SVM\n",
        "* Deliverable: comparison table (accuracy, F1-score).\n",
        "\n",
        "### 9) Evaluation & Error Analysis\n",
        "\n",
        "* Use held-out test set.\n",
        "* Metrics: accuracy, precision, recall, F1, confusion matrix.\n",
        "* Show 10 misclassified tweets and discuss why they may be difficult.\n",
        "\n",
        "### 10) Save Model Pipeline\n",
        "\n",
        "* Save the best pipeline using `joblib` or `pickle`.\n",
        "* Deliverable: `sentiment_model.pkl` file.\n",
        "\n",
        "### 11) Build a Simple API (Deployment Step)\n",
        "\n",
        "* Create a small Flask API with one endpoint `/predict` that accepts a tweet as input and returns sentiment prediction.\n",
        "* The API should load the saved pipeline and make predictions.\n",
        "* Deliverable: `app.py` with Flask code + test with a sample curl or Postman request.\n",
        "\n",
        "---\n",
        "\n",
        "## Deliverables\n",
        "\n",
        "1. Jupyter Notebook with step-by-step tasks, results, and code.\n",
        "2. Comparison tables for preprocessing choices and representations.\n",
        "3. Saved pipeline file (`.pkl`).\n",
        "4. Flask API script (`app.py`).\n",
        "5. Short report in markdown cell summarizing preprocessing, modeling choices, and results.\n",
        "\n",
        "---\n",
        "\n",
        "This streamlined lab ensures students get hands-on experience with **real-world text preprocessing, classical modeling, and deployment of NLP systems**.\n"
      ]
    },
    {
      "cell_type": "code",
      "execution_count": 8,
      "metadata": {},
      "outputs": [],
      "source": [
        "import seaborn as sns\n",
        "import matplotlib.pyplot as plt"
      ]
    },
    {
      "cell_type": "markdown",
      "metadata": {
        "id": "g5JhT6qqMzOr"
      },
      "source": [
        "### 1. Load the Dataset\n",
        "\n",
        "We will use the **Sentiment140 Twitter Sentiment dataset**.  \n",
        "It contains 1.6 million tweets labeled as positive (4) or negative (0).  \n",
        "For this lab, we will load a smaller subset (e.g., 20,000 rows) for faster experimentation.\n",
        "\n",
        "```python\n",
        "import pandas as pd\n",
        "\n",
        "# Column order for Sentiment140 dataset:\n",
        "# 0 - target (0 = negative, 4 = positive)\n",
        "# 1 - ids\n",
        "# 2 - date\n",
        "# 3 - flag\n",
        "# 4 - user\n",
        "# 5 - text (tweet)\n",
        "\n",
        "# Update the file path if needed\n",
        "file_path = \"sentiment140.csv\"\n",
        "\n",
        "# Load with proper encoding\n",
        "df = pd.read_csv(file_path, encoding='latin-1', header=None)\n",
        "\n",
        "# Assign column names\n",
        "df.columns = [\"target\", \"id\", \"date\", \"flag\", \"user\", \"text\"]\n",
        "\n",
        "# Map target labels: 0 → negative, 4 → positive\n",
        "df[\"target\"] = df[\"target\"].map({0: \"negative\", 4: \"positive\"})\n",
        "\n",
        "# Take a smaller sample for experiments (optional)\n",
        "df = df.sample(20000, random_state=42).reset_index(drop=True)\n",
        "\n",
        "# Quick check\n",
        "print(df.shape)\n",
        "df.head()\n"
      ]
    },
    {
      "cell_type": "code",
      "execution_count": 1,
      "metadata": {
        "colab": {
          "base_uri": "https://localhost:8080/"
        },
        "id": "FckTkNZyMqJw",
        "outputId": "0eb78a1b-f5ff-4a8f-b740-ab419b98e42f"
      },
      "outputs": [
        {
          "name": "stdout",
          "output_type": "stream",
          "text": [
            "Downloading dataset...\n",
            "(20000, 6)\n",
            "Training set: (1600000, 6)\n",
            "     target          id                          date      flag  \\\n",
            "0  negative  1467810369  Mon Apr 06 22:19:45 PDT 2009  NO_QUERY   \n",
            "1  negative  1467810672  Mon Apr 06 22:19:49 PDT 2009  NO_QUERY   \n",
            "2  negative  1467810917  Mon Apr 06 22:19:53 PDT 2009  NO_QUERY   \n",
            "3  negative  1467811184  Mon Apr 06 22:19:57 PDT 2009  NO_QUERY   \n",
            "4  negative  1467811193  Mon Apr 06 22:19:57 PDT 2009  NO_QUERY   \n",
            "\n",
            "              user                                               text  \n",
            "0  _TheSpecialOne_  @switchfoot http://twitpic.com/2y1zl - Awww, t...  \n",
            "1    scotthamilton  is upset that he can't update his Facebook by ...  \n",
            "2         mattycus  @Kenichan I dived many times for the ball. Man...  \n",
            "3          ElleCTF    my whole body feels itchy and like its on fire   \n",
            "4           Karoli  @nationwideclass no, it's not behaving at all....  \n",
            "Test set: (498, 6)\n",
            "     target  id                          date     flag      user  \\\n",
            "0  positive   3  Mon May 11 03:17:40 UTC 2009  kindle2    tpryan   \n",
            "1  positive   4  Mon May 11 03:18:03 UTC 2009  kindle2    vcu451   \n",
            "2  positive   5  Mon May 11 03:18:54 UTC 2009  kindle2    chadfu   \n",
            "3  positive   6  Mon May 11 03:19:04 UTC 2009  kindle2     SIX15   \n",
            "4  positive   7  Mon May 11 03:21:41 UTC 2009  kindle2  yamarama   \n",
            "\n",
            "                                                text  \n",
            "0  @stellargirl I loooooooovvvvvveee my Kindle2. ...  \n",
            "1  Reading my kindle2...  Love it... Lee childs i...  \n",
            "2  Ok, first assesment of the #kindle2 ...it fuck...  \n",
            "3  @kenburbary You'll love your Kindle2. I've had...  \n",
            "4  @mikefish  Fair enough. But i have the Kindle2...  \n"
          ]
        }
      ],
      "source": [
        "import pandas as pd\n",
        "\n",
        "import pandas as pd\n",
        "import zipfile\n",
        "import os\n",
        "import requests\n",
        "\n",
        "# Step 1: Download the dataset (if not already downloaded)\n",
        "url = \"https://cs.stanford.edu/people/alecmgo/trainingandtestdata.zip\"\n",
        "zip_path = \"trainingandtestdata.zip\"\n",
        "\n",
        "if not os.path.exists(zip_path):\n",
        "    print(\"Downloading dataset...\")\n",
        "    r = requests.get(url)\n",
        "    with open(zip_path, \"wb\") as f:\n",
        "        f.write(r.content)\n",
        "\n",
        "# Step 2: Unzip the file\n",
        "with zipfile.ZipFile(zip_path, \"r\") as zip_ref:\n",
        "    zip_ref.extractall(\".\")\n",
        "\n",
        "# Step 3: Load training data\n",
        "file_path = \"training.1600000.processed.noemoticon.csv\"\n",
        "\n",
        "df = pd.read_csv(file_path, encoding=\"latin-1\", header=None)\n",
        "df.columns = [\"target\", \"id\", \"date\", \"flag\", \"user\", \"text\"]\n",
        "\n",
        "# Map sentiment labels: 0 = negative, 4 = positive\n",
        "df[\"target\"] = df[\"target\"].map({0: \"negative\", 4: \"positive\"})\n",
        "\n",
        "# Optional: sample a smaller dataset for quicker experiments\n",
        "df = df.sample(20000, random_state=42).reset_index(drop=True)\n",
        "\n",
        "# Preview the data\n",
        "print(df.shape)\n",
        "df.head()\n",
        "\n",
        "\n",
        "# Load training set\n",
        "train_path = \"training.1600000.processed.noemoticon.csv\"\n",
        "train_df = pd.read_csv(train_path, encoding=\"latin-1\", header=None)\n",
        "train_df.columns = [\"target\", \"id\", \"date\", \"flag\", \"user\", \"text\"]\n",
        "train_df[\"target\"] = train_df[\"target\"].map({0: \"negative\", 4: \"positive\"})\n",
        "\n",
        "print(\"Training set:\", train_df.shape)\n",
        "print(train_df.head())\n",
        "\n",
        "# Load manual test set\n",
        "test_path = \"testdata.manual.2009.06.14.csv\"\n",
        "test_df = pd.read_csv(test_path, encoding=\"latin-1\", header=None)\n",
        "test_df.columns = [\"target\", \"id\", \"date\", \"flag\", \"user\", \"text\"]\n",
        "\n",
        "# This test set has labels 0 (negative), 2 (neutral), 4 (positive)\n",
        "test_df[\"target\"] = test_df[\"target\"].map({0: \"negative\", 2: \"neutral\", 4: \"positive\"})\n",
        "\n",
        "print(\"Test set:\", test_df.shape)\n",
        "print(test_df.head())\n"
      ]
    },
    {
      "cell_type": "markdown",
      "metadata": {},
      "source": [
        "## EDA"
      ]
    },
    {
      "cell_type": "code",
      "execution_count": 4,
      "metadata": {},
      "outputs": [
        {
          "data": {
            "text/plain": [
              "target\n",
              "negative    800000\n",
              "positive    800000\n",
              "Name: count, dtype: int64"
            ]
          },
          "execution_count": 4,
          "metadata": {},
          "output_type": "execute_result"
        }
      ],
      "source": [
        "train_df[\"target\"].value_counts()"
      ]
    },
    {
      "cell_type": "code",
      "execution_count": 3,
      "metadata": {
        "id": "jZgsBciEMrFj"
      },
      "outputs": [
        {
          "data": {
            "text/plain": [
              "target\n",
              "positive    182\n",
              "negative    177\n",
              "neutral     139\n",
              "Name: count, dtype: int64"
            ]
          },
          "execution_count": 3,
          "metadata": {},
          "output_type": "execute_result"
        }
      ],
      "source": [
        "test_df[\"target\"].value_counts()"
      ]
    },
    {
      "cell_type": "code",
      "execution_count": 7,
      "metadata": {},
      "outputs": [
        {
          "name": "stdout",
          "output_type": "stream",
          "text": [
            "                                                text    target  length\n",
            "0  @switchfoot http://twitpic.com/2y1zl - Awww, t...  negative     115\n",
            "1  is upset that he can't update his Facebook by ...  negative     111\n",
            "2  @Kenichan I dived many times for the ball. Man...  negative      89\n",
            "3    my whole body feels itchy and like its on fire   negative      47\n",
            "4  @nationwideclass no, it's not behaving at all....  negative     111\n"
          ]
        }
      ],
      "source": [
        "df_with_lengths = train_df[[\"text\",\"target\"]].copy()\n",
        "df_with_lengths[\"length\"] = train_df[\"text\"].str.len()\n",
        "\n",
        "print(df_with_lengths.head())"
      ]
    },
    {
      "cell_type": "code",
      "execution_count": 13,
      "metadata": {},
      "outputs": [
        {
          "data": {
            "text/plain": [
              "Text(0.5, 1.0, 'Distribution of Tweet Lengths by Sentiment')"
            ]
          },
          "execution_count": 13,
          "metadata": {},
          "output_type": "execute_result"
        },
        {
          "data": {
            "image/png": "[encoded data removed]",
            "text/plain": [
              "<Figure size 640x480 with 1 Axes>"
            ]
          },
          "metadata": {},
          "output_type": "display_data"
        }
      ],
      "source": [
        "sns.histplot(data=df_with_lengths, x=\"length\")\n",
        "plt.title(\"Distribution of Tweet Lengths by Sentiment\")"
      ]
    },
    {
      "cell_type": "code",
      "execution_count": 14,
      "metadata": {},
      "outputs": [
        {
          "data": {
            "text/plain": [
              "count    1.600000e+06\n",
              "mean     7.409011e+01\n",
              "std      3.644114e+01\n",
              "min      6.000000e+00\n",
              "25%      4.400000e+01\n",
              "50%      6.900000e+01\n",
              "75%      1.040000e+02\n",
              "max      3.740000e+02\n",
              "Name: length, dtype: float64"
            ]
          },
          "execution_count": 14,
          "metadata": {},
          "output_type": "execute_result"
        }
      ],
      "source": [
        "df_with_lengths[\"length\"].describe()"
      ]
    },
    {
      "cell_type": "code",
      "execution_count": 15,
      "metadata": {},
      "outputs": [
        {
          "data": {
            "text/plain": [
              "target\n",
              "negative    74.301790\n",
              "positive    73.878433\n",
              "Name: length, dtype: float64"
            ]
          },
          "execution_count": 15,
          "metadata": {},
          "output_type": "execute_result"
        }
      ],
      "source": [
        "df_with_lengths.groupby(\"target\")[\"length\"].mean()"
      ]
    },
    {
      "cell_type": "code",
      "execution_count": 33,
      "metadata": {},
      "outputs": [
        {
          "data": {
            "text/plain": [
              "1767     tks pa 4 &quot;tapauing&quot; croissant tuna k...\n",
              "3434     @danielhcwong Taylor 814ce --&gt; #&amp;$(#&am...\n",
              "6894     Woke up early this morning to &quot;not all th...\n",
              "13538    Took niece &amp; nephew to Blockbuster- rented...\n",
              "16809    @SongzYuuup wat is the name of ur mixtape with...\n",
              "17007    Tanned and had dinner with my Dad. Now TWO Joh...\n",
              "19818    I don't like it when people use the word &quot...\n",
              "20666    &quot;Now is no time 2go headlong in2 a diffic...\n",
              "21867     i love u bro. thanks for all the memories:sar...\n",
              "23088    @jeffpulver sayin' &quot;hi&quot;. Still upset...\n",
              "Name: text, dtype: object"
            ]
          },
          "execution_count": 33,
          "metadata": {},
          "output_type": "execute_result"
        }
      ],
      "source": [
        "df_with_lengths[df_with_lengths[\"length\"] >150][\"text\"].head(10)"
      ]
    },
    {
      "cell_type": "code",
      "execution_count": 34,
      "metadata": {},
      "outputs": [
        {
          "name": "stdout",
          "output_type": "stream",
          "text": [
            "tks pa 4 &quot;tapauing&quot; croissant tuna knowing dat Ive back-to-back meetings since morning  &amp; Zuraidah tks 4 buying my FAV STARBUCK MOCHA FRAP\n",
            "@danielhcwong Taylor 814ce --&gt; #&amp;$(#&amp;$!(@#$(!@#*$(#!( sweet mother of #@&amp;$(!@#($*(!@#*$(!@#&amp;$(!@#$&amp;!(@#!#@($... my livie is only 2900 \n",
            "Woke up early this morning to &quot;not all the way better&quot; baby and a &quot;I think I'm sick Aaron&quot; wife. When these powers are combined! Not good \n",
            "Took niece &amp; nephew to Blockbuster- rented &quot;Marley&amp;me&quot;, &amp; &quot;Slumdog Millionaire&quot; Niece kiki799 reinjured ankle @ last night b-ball game \n",
            "@SongzYuuup wat is the name of ur mixtape with &quot;r u a performer&quot; &amp; &quot;do u kno what la pearla is&quot; i lost all my music and i ? that mixtape \n",
            "Tanned and had dinner with my Dad. Now TWO John Cusack 80's films. &quot;The Sure Thing&quot; &amp; &quot;One Crazy Summer&quot; All that is missing is my BFFF \n",
            "I don't like it when people use the word &quot;fag&quot; &quot;gay&quot; or &quot;retarded&quot; as a derogative term to describe things they don't like. It's immature \n",
            "&quot;Now is no time 2go headlong in2 a difficult situatn. Take precautns &amp; do what u can 2 min any personal danger.&quot; damn, gona film a rally \n",
            " i love u bro. thanks for all the memories:saran wrap,burger king,chicharon,&quot;focker&quot;,rides home,our convo at milk,&quot;awww little!!&quot;,etc :/\n",
            "@jeffpulver sayin' &quot;hi&quot;. Still upset I missed your Dec. 2008 b'fast in TelAviv  Question - any &quot;live&quot; feeds from media140 in London?\n",
            "@NguyenNoir ??c h?t c? b? r?i. Th?ng Starr ?y lï¿½c ??u mï¿½nh r?t trï¿½ng ??i nï¿½ s? lï¿½ lo?i villain c?ng c?a, ai dï¿½ cï¿½ng v? sau cï¿½ng pathetic. \n",
            "@victoriax3jonas such as the &quot;we will do this forever&quot;, &quot;what I see&quot;, &amp; &quot;we love fans&quot; but the binding of the book effed up my plans  haha\n",
            "Maybe it's just me, but when someone tells me &quot;Have a nice day,&quot; my response is usually &quot;You too,&quot; not &quot;I will,&quot; &quot;Yeah,&quot; or &quot;Whatever.&quot; \n",
            "Was forced to take &quot;Bones&quot; off last night cos it &quot;will give your little sister bad dreams&quot;.  Not happy Jane! I never miss it, and had to\n",
            "@carolineyates75 yeah, unfortunately our client got suckered in by the &quot;openness&quot; and &quot;freeness&quot; they didn't realise.They are paying now \n",
            "Pissed that the &quot;Top 5 Movies&quot; thing on Facebook doesn't have &quot;Spring And Chaos&quot;. Grrr...Awesome anime movie that nobody knows about! \n",
            "@ashumittal YUP.  Gotta count our blessings &amp; try to not dwell on the $1k of &quot;stuff&quot; that short circuited this week &amp; needs replacing. \n",
            "@knowsnotmuch Is it my party? It is supposed to be &quot;our&quot; party! Read the tweet you posted again! It says &quot;rampantheart named her party&quot; \n",
            "A baby bird fell out of it's nest &amp; onto my patio this morning.. &amp; I didn't even get a chance to say hello to &quot;Mary Jane&quot; on her birthday \n",
            "&quot;EU sees China unsafe products hitting record high&quot; http://is.gd/tCdx &quot;...Toys made up almost a third of the dangerous products...&quot; \n",
            "Hope JSL is feeling better. 103 last night scared me &amp; made me feel bad for &quot;deserting&quot; him &amp; my wife to go to my grandmother's funeral. \n",
            "@jojoballz He lookd at it at first, like 'wat's this'? &amp; I said 'Its a b-day card!&quot; he smild &amp; said 'oh, thank you'.But then he had to go \n",
            "i think guys think i have RAYBEES OR SOMETHING its like its kara &quot;run run run&quot; maybe its the &quot;swine flu&quot;   heard of it in here?? scary!\n",
            "Called RADIO DISNEY 2day &amp; they ANSWERED! F*ing FINALLY. Requested &quot;I WANNA KNOW YOU&quot; by David Archuleta &amp; Hannah MONTANA. didn't play! \n",
            "@cali3d Not really, it may look specific, but the message merely tells me some invalid tag was sent by &quot;something&quot; to &quot;somwhere&quot;.  \n",
            "Found another guy 2 lime w/but it wasnt the same; he was taller than him, he danced diff, we dint &quot;fit&quot; &amp; dude tried 2suck on my shoulder \n",
            "@leokun87 Tao c?ng ?ï¿½ v? BK, dï¿½ khï¿½ng yï¿½u, nh?ng v?n cï¿½n h?n Th??ng-H?i-sï¿½nh-?i?u. M?t ?t z?i  L?i h?t $ lï¿½m tï¿½c z?i. ??u tï¿½c x?u quï¿½!!!\n",
            "@rubymine &quot;Cannot start compiler: the output path is not specified for module &quot;...&quot;. Specify the output path in Configure Project.&quot; \n",
            "1 ngï¿½y m?t m?i v?t l?n v?i cï¿½i Eclipse. Cu?i cï¿½ng c?ng xong. Chï¿½n m?y bï¿½c plugin, update mï¿½ khï¿½ng thï¿½m test hay sao lï¿½m queo mï¿½y mï¿½nh \n",
            "WHO DOES WORK ON THE RAIL TRACKS ON A BANK HOLIDAY?!?! It's a 2hr extended journey to begin with, now we're being &quot;held&quot; &amp; Shout!'s at 3! \n"
          ]
        }
      ],
      "source": [
        "\n",
        "for i in range(30):\n",
        "    long_tweet = df_with_lengths[df_with_lengths[\"length\"] > 150][\"text\"].head(50).iloc[i]\n",
        "    print(long_tweet)\n"
      ]
    },
    {
      "cell_type": "markdown",
      "metadata": {},
      "source": [
        "From my analysis so far, I can conclude that the main text patterns to handle during preprocessing are:\n",
        "\n",
        "- Links/URLs \n",
        "\n",
        "- Dates \n",
        "\n",
        "- Numbers/digits \n",
        "\n",
        "- Mentions and usernames => @ -----\n",
        "\n",
        "- HTML entities => Transform them back to their real characters  (&gt)  then remove \n",
        "   -  => html.unescape(text)"
      ]
    },
    {
      "cell_type": "markdown",
      "metadata": {},
      "source": [
        "#### top frequent tokens before preprocessing"
      ]
    },
    {
      "cell_type": "code",
      "execution_count": 45,
      "metadata": {},
      "outputs": [
        {
          "name": "stdout",
          "output_type": "stream",
          "text": [
            "[('i', 11811), ('to', 7092), ('the', 6570), ('a', 4881), ('my', 3919), ('you', 3882), ('it', 3784), ('and', 3769), ('is', 2931), ('for', 2735), ('in', 2656), ('s', 2288), ('t', 2262), ('of', 2161), ('on', 2107), ('me', 2037), ('that', 2032), ('so', 1860), ('have', 1792), ('m', 1739)]\n"
          ]
        }
      ],
      "source": [
        "from collections import Counter\n",
        "import re\n",
        "\n",
        "\n",
        "all_words = \" \".join(df[\"text\"]).lower()\n",
        "\n",
        "\n",
        "tokens = re.findall(r'\\b\\w+\\b', all_words)\n",
        "\n",
        "\n",
        "top_tokens = Counter(tokens).most_common(20)\n",
        "print(top_tokens)\n"
      ]
    },
    {
      "cell_type": "code",
      "execution_count": 43,
      "metadata": {},
      "outputs": [
        {
          "data": {
            "text/plain": [
              "([0, 1, 2, 3, 4, 5, 6, 7, 8, 9, 10, 11, 12, 13, 14, 15, 16, 17, 18, 19],\n",
              " [Text(0, 0, 'i'),\n",
              "  Text(1, 0, 'to'),\n",
              "  Text(2, 0, 'the'),\n",
              "  Text(3, 0, 'a'),\n",
              "  Text(4, 0, 'my'),\n",
              "  Text(5, 0, 'you'),\n",
              "  Text(6, 0, 'it'),\n",
              "  Text(7, 0, 'and'),\n",
              "  Text(8, 0, 'is'),\n",
              "  Text(9, 0, 'for'),\n",
              "  Text(10, 0, 'in'),\n",
              "  Text(11, 0, 's'),\n",
              "  Text(12, 0, 't'),\n",
              "  Text(13, 0, 'of'),\n",
              "  Text(14, 0, 'on'),\n",
              "  Text(15, 0, 'me'),\n",
              "  Text(16, 0, 'that'),\n",
              "  Text(17, 0, 'so'),\n",
              "  Text(18, 0, 'have'),\n",
              "  Text(19, 0, 'm')])"
            ]
          },
          "execution_count": 43,
          "metadata": {},
          "output_type": "execute_result"
        },
        {
          "data": {
            "image/png": "[encoded data removed]",
            "text/plain": [
              "<Figure size 640x480 with 1 Axes>"
            ]
          },
          "metadata": {},
          "output_type": "display_data"
        }
      ],
      "source": [
        "sns.barplot(x=[token[0] for token in top_tokens], y=[token[1] for token in top_tokens])\n",
        "plt.xticks(rotation=45)"
      ]
    },
    {
      "cell_type": "markdown",
      "metadata": {},
      "source": [
        "I used only df, a sample of the dataset (due to memory limitations). Almost all of the top 20 most frequent tokens turned out to be stopwords. Therefore, we should remove stopwords during preprocessing."
      ]
    },
    {
      "cell_type": "markdown",
      "metadata": {},
      "source": [
        "----"
      ]
    },
    {
      "cell_type": "markdown",
      "metadata": {},
      "source": [
        "## Regex Cleaning"
      ]
    },
    {
      "cell_type": "code",
      "execution_count": 61,
      "metadata": {},
      "outputs": [],
      "source": [
        "import html\n",
        "def Regex_cleaning(text) :\n",
        "    text = html.unescape(str(text))\n",
        "    text = re.sub(r'http\\S+|www\\S+|https\\S+', '', text, flags=re.MULTILINE) # remove URLs\n",
        "    text = re.sub(r'\\@\\w+|\\#','', text) # remove mentions and hashtags\n",
        "    text = re.sub(r'[^A-Za-z0-9\\s]+', '', text) # remove special characters and punctuation\n",
        "    text = re.sub(r'\\s+', ' ', text).strip() # remove extra whitespace\n",
        "    text = re.sub(r'[\\U0001F600-\\U0001F64F\\U0001F300-\\U0001F5FF\\U0001F680-\\U0001F6FF\\U0001F1E0-\\U0001F1FF]+', '', text) # remove emojis\n",
        "    text = re.sub(r'\\d+', '', text) # remove numbers\n",
        "    return text"
      ]
    },
    {
      "cell_type": "code",
      "execution_count": 62,
      "metadata": {},
      "outputs": [],
      "source": [
        "df_with_lengths[\"cleaned_text\"] = df_with_lengths[\"text\"].apply(Regex_cleaning)\n"
      ]
    },
    {
      "cell_type": "code",
      "execution_count": 63,
      "metadata": {},
      "outputs": [
        {
          "data": {
            "text/html": [
              "<div>\n",
              "<style scoped>\n",
              "    .dataframe tbody tr th:only-of-type {\n",
              "        vertical-align: middle;\n",
              "    }\n",
              "\n",
              "    .dataframe tbody tr th {\n",
              "        vertical-align: top;\n",
              "    }\n",
              "\n",
              "    .dataframe thead th {\n",
              "        text-align: right;\n",
              "    }\n",
              "</style>\n",
              "<table border=\"1\" class=\"dataframe\">\n",
              "  <thead>\n",
              "    <tr style=\"text-align: right;\">\n",
              "      <th></th>\n",
              "      <th>text</th>\n",
              "      <th>cleaned_text</th>\n",
              "    </tr>\n",
              "  </thead>\n",
              "  <tbody>\n",
              "    <tr>\n",
              "      <th>0</th>\n",
              "      <td>@switchfoot http://twitpic.com/2y1zl - Awww, t...</td>\n",
              "      <td>A thats a bummer You shoulda got David Carr of...</td>\n",
              "    </tr>\n",
              "    <tr>\n",
              "      <th>1</th>\n",
              "      <td>is upset that he can't update his Facebook by ...</td>\n",
              "      <td>is upset that he cant update his Facebook by t...</td>\n",
              "    </tr>\n",
              "    <tr>\n",
              "      <th>2</th>\n",
              "      <td>@Kenichan I dived many times for the ball. Man...</td>\n",
              "      <td>I dived many times for the ball Managed to sav...</td>\n",
              "    </tr>\n",
              "    <tr>\n",
              "      <th>3</th>\n",
              "      <td>my whole body feels itchy and like its on fire</td>\n",
              "      <td>my whole body feels itchy and like its on fire</td>\n",
              "    </tr>\n",
              "    <tr>\n",
              "      <th>4</th>\n",
              "      <td>@nationwideclass no, it's not behaving at all....</td>\n",
              "      <td>no its not behaving at all im mad why am i her...</td>\n",
              "    </tr>\n",
              "    <tr>\n",
              "      <th>...</th>\n",
              "      <td>...</td>\n",
              "      <td>...</td>\n",
              "    </tr>\n",
              "    <tr>\n",
              "      <th>1599995</th>\n",
              "      <td>Just woke up. Having no school is the best fee...</td>\n",
              "      <td>Just woke up Having no school is the best feel...</td>\n",
              "    </tr>\n",
              "    <tr>\n",
              "      <th>1599996</th>\n",
              "      <td>TheWDB.com - Very cool to hear old Walt interv...</td>\n",
              "      <td>TheWDBcom Very cool to hear old Walt interviews</td>\n",
              "    </tr>\n",
              "    <tr>\n",
              "      <th>1599997</th>\n",
              "      <td>Are you ready for your MoJo Makeover? Ask me f...</td>\n",
              "      <td>Are you ready for your MoJo Makeover Ask me fo...</td>\n",
              "    </tr>\n",
              "    <tr>\n",
              "      <th>1599998</th>\n",
              "      <td>Happy 38th Birthday to my boo of alll time!!! ...</td>\n",
              "      <td>Happy th Birthday to my boo of alll time Tupac...</td>\n",
              "    </tr>\n",
              "    <tr>\n",
              "      <th>1599999</th>\n",
              "      <td>happy #charitytuesday @theNSPCC @SparksCharity...</td>\n",
              "      <td>happy charitytuesday</td>\n",
              "    </tr>\n",
              "  </tbody>\n",
              "</table>\n",
              "<p>1600000 rows × 2 columns</p>\n",
              "</div>"
            ],
            "text/plain": [
              "                                                      text  \\\n",
              "0        @switchfoot http://twitpic.com/2y1zl - Awww, t...   \n",
              "1        is upset that he can't update his Facebook by ...   \n",
              "2        @Kenichan I dived many times for the ball. Man...   \n",
              "3          my whole body feels itchy and like its on fire    \n",
              "4        @nationwideclass no, it's not behaving at all....   \n",
              "...                                                    ...   \n",
              "1599995  Just woke up. Having no school is the best fee...   \n",
              "1599996  TheWDB.com - Very cool to hear old Walt interv...   \n",
              "1599997  Are you ready for your MoJo Makeover? Ask me f...   \n",
              "1599998  Happy 38th Birthday to my boo of alll time!!! ...   \n",
              "1599999  happy #charitytuesday @theNSPCC @SparksCharity...   \n",
              "\n",
              "                                              cleaned_text  \n",
              "0        A thats a bummer You shoulda got David Carr of...  \n",
              "1        is upset that he cant update his Facebook by t...  \n",
              "2        I dived many times for the ball Managed to sav...  \n",
              "3           my whole body feels itchy and like its on fire  \n",
              "4        no its not behaving at all im mad why am i her...  \n",
              "...                                                    ...  \n",
              "1599995  Just woke up Having no school is the best feel...  \n",
              "1599996    TheWDBcom Very cool to hear old Walt interviews  \n",
              "1599997  Are you ready for your MoJo Makeover Ask me fo...  \n",
              "1599998  Happy th Birthday to my boo of alll time Tupac...  \n",
              "1599999                               happy charitytuesday  \n",
              "\n",
              "[1600000 rows x 2 columns]"
            ]
          },
          "execution_count": 63,
          "metadata": {},
          "output_type": "execute_result"
        }
      ],
      "source": [
        "df_with_lengths[[\"text\",\"cleaned_text\"]]"
      ]
    },
    {
      "cell_type": "code",
      "execution_count": 64,
      "metadata": {},
      "outputs": [
        {
          "name": "stdout",
          "output_type": "stream",
          "text": [
            "happy #charitytuesday @theNSPCC @SparksCharity @SpeakingUpH4H \n",
            "happy charitytuesday\n"
          ]
        }
      ],
      "source": [
        "y=df_with_lengths[[\"text\",\"cleaned_text\"]].iloc[1599999]\n",
        "print(y['text'])\n",
        "print(y['cleaned_text'])"
      ]
    },
    {
      "cell_type": "markdown",
      "metadata": {},
      "source": [
        "----"
      ]
    },
    {
      "cell_type": "code",
      "execution_count": null,
      "metadata": {},
      "outputs": [],
      "source": []
    }
  ],
  "metadata": {
    "colab": {
      "provenance": []
    },
    "kernelspec": {
      "display_name": "Python 3",
      "name": "python3"
    },
    "language_info": {
      "codemirror_mode": {
        "name": "ipython",
        "version": 3
      },
      "file_extension": ".py",
      "mimetype": "text/x-python",
      "name": "python",
      "nbconvert_exporter": "python",
      "pygments_lexer": "ipython3",
      "version": "3.11.0"
    }
  },
  "nbformat": 4,
  "nbformat_minor": 0
}
